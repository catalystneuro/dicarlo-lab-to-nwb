{
 "cells": [
  {
   "cell_type": "markdown",
   "metadata": {},
   "source": [
    "# Data loading"
   ]
  },
  {
   "cell_type": "markdown",
   "metadata": {},
   "source": [
    "##  Loading Data"
   ]
  },
  {
   "cell_type": "markdown",
   "metadata": {},
   "source": [
    "### Amplifiers"
   ]
  },
  {
   "cell_type": "markdown",
   "metadata": {},
   "source": [
    "This is an example of how to load data."
   ]
  },
  {
   "cell_type": "code",
   "execution_count": 1,
   "metadata": {},
   "outputs": [
    {
     "name": "stderr",
     "output_type": "stream",
     "text": [
      "/Users/yoon/opt/anaconda3/envs/dicarlo_lab_to_nwb_env/lib/python3.12/site-packages/tqdm/auto.py:21: TqdmWarning: IProgress not found. Please update jupyter and ipywidgets. See https://ipywidgets.readthedocs.io/en/stable/user_install.html\n",
      "  from .autonotebook import tqdm as notebook_tqdm\n"
     ]
    },
    {
     "ename": "AttributeError",
     "evalue": "module 'scipy.sparse' has no attribute 'csr_matrix'",
     "output_type": "error",
     "traceback": [
      "\u001b[0;31m---------------------------------------------------------------------------\u001b[0m",
      "\u001b[0;31mAttributeError\u001b[0m                            Traceback (most recent call last)",
      "Cell \u001b[0;32mIn[1], line 3\u001b[0m\n\u001b[1;32m      1\u001b[0m \u001b[38;5;28;01mfrom\u001b[39;00m \u001b[38;5;21;01mpathlib\u001b[39;00m \u001b[38;5;28;01mimport\u001b[39;00m Path\n\u001b[1;32m      2\u001b[0m \u001b[38;5;28;01mfrom\u001b[39;00m \u001b[38;5;21;01mspikeinterface\u001b[39;00m\u001b[38;5;21;01m.\u001b[39;00m\u001b[38;5;21;01mextractors\u001b[39;00m \u001b[38;5;28;01mimport\u001b[39;00m IntanRecordingExtractor\n\u001b[0;32m----> 3\u001b[0m \u001b[38;5;28;01mfrom\u001b[39;00m \u001b[38;5;21;01mdicarlo_lab_to_nwb\u001b[39;00m\u001b[38;5;21;01m.\u001b[39;00m\u001b[38;5;21;01mconversion\u001b[39;00m\u001b[38;5;21;01m.\u001b[39;00m\u001b[38;5;21;01mdata_locator\u001b[39;00m \u001b[38;5;28;01mimport\u001b[39;00m locate_intan_file_path\n\u001b[1;32m      5\u001b[0m data_folder \u001b[38;5;241m=\u001b[39m Path(\u001b[38;5;124m\"\u001b[39m\u001b[38;5;124m/media/heberto/One Touch/DiCarlo-CN-data-share\u001b[39m\u001b[38;5;124m\"\u001b[39m)\n\u001b[1;32m      6\u001b[0m image_set_name \u001b[38;5;241m=\u001b[39m \u001b[38;5;124m\"\u001b[39m\u001b[38;5;124mdomain-transfer-2023\u001b[39m\u001b[38;5;124m\"\u001b[39m\n",
      "File \u001b[0;32m~/Dropbox (MIT)/dorsal_ventral/pipeline_lab/dicarlo-lab-to-nwb/src/dicarlo_lab_to_nwb/conversion/__init__.py:1\u001b[0m\n\u001b[0;32m----> 1\u001b[0m \u001b[38;5;28;01mfrom\u001b[39;00m \u001b[38;5;21;01m.\u001b[39;00m\u001b[38;5;21;01mbehaviorinterface\u001b[39;00m \u001b[38;5;28;01mimport\u001b[39;00m BehavioralTrialsInterface\n\u001b[1;32m      2\u001b[0m \u001b[38;5;28;01mfrom\u001b[39;00m \u001b[38;5;21;01m.\u001b[39;00m\u001b[38;5;21;01mnwbconverter\u001b[39;00m \u001b[38;5;28;01mimport\u001b[39;00m ConversionNWBConverter\n",
      "File \u001b[0;32m~/Dropbox (MIT)/dorsal_ventral/pipeline_lab/dicarlo-lab-to-nwb/src/dicarlo_lab_to_nwb/conversion/behaviorinterface.py:7\u001b[0m\n\u001b[1;32m      5\u001b[0m \u001b[38;5;28;01mimport\u001b[39;00m \u001b[38;5;21;01mnumpy\u001b[39;00m \u001b[38;5;28;01mas\u001b[39;00m \u001b[38;5;21;01mnp\u001b[39;00m\n\u001b[1;32m      6\u001b[0m \u001b[38;5;28;01mimport\u001b[39;00m \u001b[38;5;21;01mpandas\u001b[39;00m \u001b[38;5;28;01mas\u001b[39;00m \u001b[38;5;21;01mpd\u001b[39;00m\n\u001b[0;32m----> 7\u001b[0m \u001b[38;5;28;01mfrom\u001b[39;00m \u001b[38;5;21;01mneuroconv\u001b[39;00m\u001b[38;5;21;01m.\u001b[39;00m\u001b[38;5;21;01mbasedatainterface\u001b[39;00m \u001b[38;5;28;01mimport\u001b[39;00m BaseDataInterface\n\u001b[1;32m      8\u001b[0m \u001b[38;5;28;01mfrom\u001b[39;00m \u001b[38;5;21;01mneuroconv\u001b[39;00m\u001b[38;5;21;01m.\u001b[39;00m\u001b[38;5;21;01mutils\u001b[39;00m \u001b[38;5;28;01mimport\u001b[39;00m DeepDict\n\u001b[1;32m      9\u001b[0m \u001b[38;5;28;01mfrom\u001b[39;00m \u001b[38;5;21;01mpynwb\u001b[39;00m\u001b[38;5;21;01m.\u001b[39;00m\u001b[38;5;21;01mfile\u001b[39;00m \u001b[38;5;28;01mimport\u001b[39;00m NWBFile\n",
      "File \u001b[0;32m~/opt/anaconda3/envs/dicarlo_lab_to_nwb_env/lib/python3.12/site-packages/neuroconv/__init__.py:1\u001b[0m\n\u001b[0;32m----> 1\u001b[0m \u001b[38;5;28;01mfrom\u001b[39;00m \u001b[38;5;21;01m.\u001b[39;00m\u001b[38;5;21;01mbasedatainterface\u001b[39;00m \u001b[38;5;28;01mimport\u001b[39;00m BaseDataInterface\n\u001b[1;32m      2\u001b[0m \u001b[38;5;28;01mfrom\u001b[39;00m \u001b[38;5;21;01m.\u001b[39;00m\u001b[38;5;21;01mbaseextractorinterface\u001b[39;00m \u001b[38;5;28;01mimport\u001b[39;00m BaseExtractorInterface\n\u001b[1;32m      3\u001b[0m \u001b[38;5;28;01mfrom\u001b[39;00m \u001b[38;5;21;01m.\u001b[39;00m\u001b[38;5;21;01mbasetemporalalignmentinterface\u001b[39;00m \u001b[38;5;28;01mimport\u001b[39;00m BaseTemporalAlignmentInterface\n",
      "File \u001b[0;32m~/opt/anaconda3/envs/dicarlo_lab_to_nwb_env/lib/python3.12/site-packages/neuroconv/basedatainterface.py:10\u001b[0m\n\u001b[1;32m      7\u001b[0m \u001b[38;5;28;01mfrom\u001b[39;00m \u001b[38;5;21;01mtyping\u001b[39;00m \u001b[38;5;28;01mimport\u001b[39;00m Literal, Optional, Tuple, Union\n\u001b[1;32m      9\u001b[0m \u001b[38;5;28;01mfrom\u001b[39;00m \u001b[38;5;21;01mjsonschema\u001b[39;00m\u001b[38;5;21;01m.\u001b[39;00m\u001b[38;5;21;01mvalidators\u001b[39;00m \u001b[38;5;28;01mimport\u001b[39;00m validate\n\u001b[0;32m---> 10\u001b[0m \u001b[38;5;28;01mfrom\u001b[39;00m \u001b[38;5;21;01mpynwb\u001b[39;00m \u001b[38;5;28;01mimport\u001b[39;00m NWBFile\n\u001b[1;32m     12\u001b[0m \u001b[38;5;28;01mfrom\u001b[39;00m \u001b[38;5;21;01m.\u001b[39;00m\u001b[38;5;21;01mtools\u001b[39;00m\u001b[38;5;21;01m.\u001b[39;00m\u001b[38;5;21;01mnwb_helpers\u001b[39;00m \u001b[38;5;28;01mimport\u001b[39;00m (\n\u001b[1;32m     13\u001b[0m     HDF5BackendConfiguration,\n\u001b[1;32m     14\u001b[0m     ZarrBackendConfiguration,\n\u001b[0;32m   (...)\u001b[0m\n\u001b[1;32m     18\u001b[0m     make_or_load_nwbfile,\n\u001b[1;32m     19\u001b[0m )\n\u001b[1;32m     20\u001b[0m \u001b[38;5;28;01mfrom\u001b[39;00m \u001b[38;5;21;01m.\u001b[39;00m\u001b[38;5;21;01mtools\u001b[39;00m\u001b[38;5;21;01m.\u001b[39;00m\u001b[38;5;21;01mnwb_helpers\u001b[39;00m\u001b[38;5;21;01m.\u001b[39;00m\u001b[38;5;21;01m_metadata_and_file_helpers\u001b[39;00m \u001b[38;5;28;01mimport\u001b[39;00m _resolve_backend\n",
      "File \u001b[0;32m~/opt/anaconda3/envs/dicarlo_lab_to_nwb_env/lib/python3.12/site-packages/pynwb/__init__.py:14\u001b[0m\n\u001b[1;32m     12\u001b[0m \u001b[38;5;28;01mfrom\u001b[39;00m \u001b[38;5;21;01mhdmf\u001b[39;00m\u001b[38;5;21;01m.\u001b[39;00m\u001b[38;5;21;01mbackends\u001b[39;00m\u001b[38;5;21;01m.\u001b[39;00m\u001b[38;5;21;01mhdf5\u001b[39;00m \u001b[38;5;28;01mimport\u001b[39;00m HDF5IO \u001b[38;5;28;01mas\u001b[39;00m _HDF5IO\n\u001b[1;32m     13\u001b[0m \u001b[38;5;28;01mfrom\u001b[39;00m \u001b[38;5;21;01mhdmf\u001b[39;00m\u001b[38;5;21;01m.\u001b[39;00m\u001b[38;5;21;01mbuild\u001b[39;00m \u001b[38;5;28;01mimport\u001b[39;00m BuildManager, TypeMap\n\u001b[0;32m---> 14\u001b[0m \u001b[38;5;28;01mimport\u001b[39;00m \u001b[38;5;21;01mhdmf\u001b[39;00m\u001b[38;5;21;01m.\u001b[39;00m\u001b[38;5;21;01mcommon\u001b[39;00m\n\u001b[1;32m     15\u001b[0m \u001b[38;5;28;01mfrom\u001b[39;00m \u001b[38;5;21;01mhdmf\u001b[39;00m\u001b[38;5;21;01m.\u001b[39;00m\u001b[38;5;21;01mcommon\u001b[39;00m \u001b[38;5;28;01mimport\u001b[39;00m load_type_config \u001b[38;5;28;01mas\u001b[39;00m hdmf_load_type_config\n\u001b[1;32m     16\u001b[0m \u001b[38;5;28;01mfrom\u001b[39;00m \u001b[38;5;21;01mhdmf\u001b[39;00m\u001b[38;5;21;01m.\u001b[39;00m\u001b[38;5;21;01mcommon\u001b[39;00m \u001b[38;5;28;01mimport\u001b[39;00m get_loaded_type_config \u001b[38;5;28;01mas\u001b[39;00m hdmf_get_loaded_type_config\n",
      "File \u001b[0;32m~/opt/anaconda3/envs/dicarlo_lab_to_nwb_env/lib/python3.12/site-packages/hdmf/common/__init__.py:249\u001b[0m\n\u001b[1;32m    247\u001b[0m \u001b[38;5;28;01mfrom\u001b[39;00m \u001b[38;5;21;01m.\u001b[39;00m \u001b[38;5;28;01mimport\u001b[39;00m table  \u001b[38;5;66;03m# noqa: E402\u001b[39;00m\n\u001b[1;32m    248\u001b[0m \u001b[38;5;28;01mfrom\u001b[39;00m \u001b[38;5;21;01m.\u001b[39;00m \u001b[38;5;28;01mimport\u001b[39;00m alignedtable  \u001b[38;5;66;03m# noqa: E402\u001b[39;00m\n\u001b[0;32m--> 249\u001b[0m \u001b[38;5;28;01mfrom\u001b[39;00m \u001b[38;5;21;01m.\u001b[39;00m \u001b[38;5;28;01mimport\u001b[39;00m sparse  \u001b[38;5;66;03m# noqa: E402\u001b[39;00m\n\u001b[1;32m    250\u001b[0m \u001b[38;5;28;01mfrom\u001b[39;00m \u001b[38;5;21;01m.\u001b[39;00m \u001b[38;5;28;01mimport\u001b[39;00m resources  \u001b[38;5;66;03m# noqa: E402\u001b[39;00m\n\u001b[1;32m    251\u001b[0m \u001b[38;5;28;01mfrom\u001b[39;00m \u001b[38;5;21;01m.\u001b[39;00m \u001b[38;5;28;01mimport\u001b[39;00m multi  \u001b[38;5;66;03m# noqa: E402\u001b[39;00m\n",
      "File \u001b[0;32m~/opt/anaconda3/envs/dicarlo_lab_to_nwb_env/lib/python3.12/site-packages/hdmf/common/sparse.py:8\u001b[0m\n\u001b[1;32m      3\u001b[0m \u001b[38;5;28;01mfrom\u001b[39;00m \u001b[38;5;21;01m.\u001b[39;00m\u001b[38;5;21;01m.\u001b[39;00m\u001b[38;5;21;01mcontainer\u001b[39;00m \u001b[38;5;28;01mimport\u001b[39;00m Container\n\u001b[1;32m      4\u001b[0m \u001b[38;5;28;01mfrom\u001b[39;00m \u001b[38;5;21;01m.\u001b[39;00m\u001b[38;5;21;01m.\u001b[39;00m\u001b[38;5;21;01mutils\u001b[39;00m \u001b[38;5;28;01mimport\u001b[39;00m docval, popargs, to_uint_array,  get_data_shape, AllowPositional\n\u001b[1;32m      7\u001b[0m \u001b[38;5;129;43m@register_class\u001b[39;49m\u001b[43m(\u001b[49m\u001b[38;5;124;43m'\u001b[39;49m\u001b[38;5;124;43mCSRMatrix\u001b[39;49m\u001b[38;5;124;43m'\u001b[39;49m\u001b[43m)\u001b[49m\n\u001b[0;32m----> 8\u001b[0m \u001b[38;5;28;43;01mclass\u001b[39;49;00m\u001b[43m \u001b[49m\u001b[38;5;21;43;01mCSRMatrix\u001b[39;49;00m\u001b[43m(\u001b[49m\u001b[43mContainer\u001b[49m\u001b[43m)\u001b[49m\u001b[43m:\u001b[49m\n\u001b[1;32m     10\u001b[0m \u001b[43m    \u001b[49m\u001b[38;5;129;43m@docval\u001b[39;49m\u001b[43m(\u001b[49m\u001b[43m{\u001b[49m\u001b[38;5;124;43m'\u001b[39;49m\u001b[38;5;124;43mname\u001b[39;49m\u001b[38;5;124;43m'\u001b[39;49m\u001b[43m:\u001b[49m\u001b[43m \u001b[49m\u001b[38;5;124;43m'\u001b[39;49m\u001b[38;5;124;43mdata\u001b[39;49m\u001b[38;5;124;43m'\u001b[39;49m\u001b[43m,\u001b[49m\u001b[43m \u001b[49m\u001b[38;5;124;43m'\u001b[39;49m\u001b[38;5;124;43mtype\u001b[39;49m\u001b[38;5;124;43m'\u001b[39;49m\u001b[43m:\u001b[49m\u001b[43m \u001b[49m\u001b[43m(\u001b[49m\u001b[43msps\u001b[49m\u001b[38;5;241;43m.\u001b[39;49m\u001b[43mcsr_matrix\u001b[49m\u001b[43m,\u001b[49m\u001b[43m \u001b[49m\u001b[38;5;124;43m'\u001b[39;49m\u001b[38;5;124;43marray_data\u001b[39;49m\u001b[38;5;124;43m'\u001b[39;49m\u001b[43m)\u001b[49m\u001b[43m,\u001b[49m\n\u001b[1;32m     11\u001b[0m \u001b[43m             \u001b[49m\u001b[38;5;124;43m'\u001b[39;49m\u001b[38;5;124;43mdoc\u001b[39;49m\u001b[38;5;124;43m'\u001b[39;49m\u001b[43m:\u001b[49m\u001b[43m \u001b[49m\u001b[38;5;124;43m'\u001b[39;49m\u001b[38;5;124;43mthe data to use for this CSRMatrix or CSR data array.\u001b[39;49m\u001b[38;5;124;43m'\u001b[39;49m\n\u001b[1;32m     12\u001b[0m \u001b[43m                    \u001b[49m\u001b[38;5;124;43m'\u001b[39;49m\u001b[38;5;124;43mIf passing CSR data array, *indices*, *indptr*, and *shape* must also be provided\u001b[39;49m\u001b[38;5;124;43m'\u001b[39;49m\u001b[43m}\u001b[49m\u001b[43m,\u001b[49m\n\u001b[0;32m   (...)\u001b[0m\n\u001b[1;32m     17\u001b[0m \u001b[43m            \u001b[49m\u001b[43mallow_positional\u001b[49m\u001b[38;5;241;43m=\u001b[39;49m\u001b[43mAllowPositional\u001b[49m\u001b[38;5;241;43m.\u001b[39;49m\u001b[43mWARNING\u001b[49m\u001b[43m)\u001b[49m\n\u001b[1;32m     18\u001b[0m \u001b[43m    \u001b[49m\u001b[38;5;28;43;01mdef\u001b[39;49;00m\u001b[43m \u001b[49m\u001b[38;5;21;43m__init__\u001b[39;49m\u001b[43m(\u001b[49m\u001b[38;5;28;43mself\u001b[39;49m\u001b[43m,\u001b[49m\u001b[43m \u001b[49m\u001b[38;5;241;43m*\u001b[39;49m\u001b[38;5;241;43m*\u001b[39;49m\u001b[43mkwargs\u001b[49m\u001b[43m)\u001b[49m\u001b[43m:\u001b[49m\n\u001b[1;32m     19\u001b[0m \u001b[43m        \u001b[49m\u001b[43mdata\u001b[49m\u001b[43m,\u001b[49m\u001b[43m \u001b[49m\u001b[43mindices\u001b[49m\u001b[43m,\u001b[49m\u001b[43m \u001b[49m\u001b[43mindptr\u001b[49m\u001b[43m,\u001b[49m\u001b[43m \u001b[49m\u001b[43mshape\u001b[49m\u001b[43m \u001b[49m\u001b[38;5;241;43m=\u001b[39;49m\u001b[43m \u001b[49m\u001b[43mpopargs\u001b[49m\u001b[43m(\u001b[49m\u001b[38;5;124;43m'\u001b[39;49m\u001b[38;5;124;43mdata\u001b[39;49m\u001b[38;5;124;43m'\u001b[39;49m\u001b[43m,\u001b[49m\u001b[43m \u001b[49m\u001b[38;5;124;43m'\u001b[39;49m\u001b[38;5;124;43mindices\u001b[39;49m\u001b[38;5;124;43m'\u001b[39;49m\u001b[43m,\u001b[49m\u001b[43m \u001b[49m\u001b[38;5;124;43m'\u001b[39;49m\u001b[38;5;124;43mindptr\u001b[39;49m\u001b[38;5;124;43m'\u001b[39;49m\u001b[43m,\u001b[49m\u001b[43m \u001b[49m\u001b[38;5;124;43m'\u001b[39;49m\u001b[38;5;124;43mshape\u001b[39;49m\u001b[38;5;124;43m'\u001b[39;49m\u001b[43m,\u001b[49m\u001b[43m \u001b[49m\u001b[43mkwargs\u001b[49m\u001b[43m)\u001b[49m\n",
      "File \u001b[0;32m~/opt/anaconda3/envs/dicarlo_lab_to_nwb_env/lib/python3.12/site-packages/hdmf/common/sparse.py:10\u001b[0m, in \u001b[0;36mCSRMatrix\u001b[0;34m()\u001b[0m\n\u001b[1;32m      7\u001b[0m \u001b[38;5;129m@register_class\u001b[39m(\u001b[38;5;124m'\u001b[39m\u001b[38;5;124mCSRMatrix\u001b[39m\u001b[38;5;124m'\u001b[39m)\n\u001b[1;32m      8\u001b[0m \u001b[38;5;28;01mclass\u001b[39;00m \u001b[38;5;21;01mCSRMatrix\u001b[39;00m(Container):\n\u001b[0;32m---> 10\u001b[0m     \u001b[38;5;129m@docval\u001b[39m({\u001b[38;5;124m'\u001b[39m\u001b[38;5;124mname\u001b[39m\u001b[38;5;124m'\u001b[39m: \u001b[38;5;124m'\u001b[39m\u001b[38;5;124mdata\u001b[39m\u001b[38;5;124m'\u001b[39m, \u001b[38;5;124m'\u001b[39m\u001b[38;5;124mtype\u001b[39m\u001b[38;5;124m'\u001b[39m: (\u001b[43msps\u001b[49m\u001b[38;5;241;43m.\u001b[39;49m\u001b[43mcsr_matrix\u001b[49m, \u001b[38;5;124m'\u001b[39m\u001b[38;5;124marray_data\u001b[39m\u001b[38;5;124m'\u001b[39m),\n\u001b[1;32m     11\u001b[0m              \u001b[38;5;124m'\u001b[39m\u001b[38;5;124mdoc\u001b[39m\u001b[38;5;124m'\u001b[39m: \u001b[38;5;124m'\u001b[39m\u001b[38;5;124mthe data to use for this CSRMatrix or CSR data array.\u001b[39m\u001b[38;5;124m'\u001b[39m\n\u001b[1;32m     12\u001b[0m                     \u001b[38;5;124m'\u001b[39m\u001b[38;5;124mIf passing CSR data array, *indices*, *indptr*, and *shape* must also be provided\u001b[39m\u001b[38;5;124m'\u001b[39m},\n\u001b[1;32m     13\u001b[0m             {\u001b[38;5;124m'\u001b[39m\u001b[38;5;124mname\u001b[39m\u001b[38;5;124m'\u001b[39m: \u001b[38;5;124m'\u001b[39m\u001b[38;5;124mindices\u001b[39m\u001b[38;5;124m'\u001b[39m, \u001b[38;5;124m'\u001b[39m\u001b[38;5;124mtype\u001b[39m\u001b[38;5;124m'\u001b[39m: \u001b[38;5;124m'\u001b[39m\u001b[38;5;124marray_data\u001b[39m\u001b[38;5;124m'\u001b[39m, \u001b[38;5;124m'\u001b[39m\u001b[38;5;124mdoc\u001b[39m\u001b[38;5;124m'\u001b[39m: \u001b[38;5;124m'\u001b[39m\u001b[38;5;124mCSR index array\u001b[39m\u001b[38;5;124m'\u001b[39m, \u001b[38;5;124m'\u001b[39m\u001b[38;5;124mdefault\u001b[39m\u001b[38;5;124m'\u001b[39m: \u001b[38;5;28;01mNone\u001b[39;00m},\n\u001b[1;32m     14\u001b[0m             {\u001b[38;5;124m'\u001b[39m\u001b[38;5;124mname\u001b[39m\u001b[38;5;124m'\u001b[39m: \u001b[38;5;124m'\u001b[39m\u001b[38;5;124mindptr\u001b[39m\u001b[38;5;124m'\u001b[39m, \u001b[38;5;124m'\u001b[39m\u001b[38;5;124mtype\u001b[39m\u001b[38;5;124m'\u001b[39m: \u001b[38;5;124m'\u001b[39m\u001b[38;5;124marray_data\u001b[39m\u001b[38;5;124m'\u001b[39m, \u001b[38;5;124m'\u001b[39m\u001b[38;5;124mdoc\u001b[39m\u001b[38;5;124m'\u001b[39m: \u001b[38;5;124m'\u001b[39m\u001b[38;5;124mCSR index pointer array\u001b[39m\u001b[38;5;124m'\u001b[39m, \u001b[38;5;124m'\u001b[39m\u001b[38;5;124mdefault\u001b[39m\u001b[38;5;124m'\u001b[39m: \u001b[38;5;28;01mNone\u001b[39;00m},\n\u001b[1;32m     15\u001b[0m             {\u001b[38;5;124m'\u001b[39m\u001b[38;5;124mname\u001b[39m\u001b[38;5;124m'\u001b[39m: \u001b[38;5;124m'\u001b[39m\u001b[38;5;124mshape\u001b[39m\u001b[38;5;124m'\u001b[39m, \u001b[38;5;124m'\u001b[39m\u001b[38;5;124mtype\u001b[39m\u001b[38;5;124m'\u001b[39m: \u001b[38;5;124m'\u001b[39m\u001b[38;5;124marray_data\u001b[39m\u001b[38;5;124m'\u001b[39m, \u001b[38;5;124m'\u001b[39m\u001b[38;5;124mdoc\u001b[39m\u001b[38;5;124m'\u001b[39m: \u001b[38;5;124m'\u001b[39m\u001b[38;5;124mthe shape of the matrix\u001b[39m\u001b[38;5;124m'\u001b[39m, \u001b[38;5;124m'\u001b[39m\u001b[38;5;124mdefault\u001b[39m\u001b[38;5;124m'\u001b[39m: \u001b[38;5;28;01mNone\u001b[39;00m},\n\u001b[1;32m     16\u001b[0m             {\u001b[38;5;124m'\u001b[39m\u001b[38;5;124mname\u001b[39m\u001b[38;5;124m'\u001b[39m: \u001b[38;5;124m'\u001b[39m\u001b[38;5;124mname\u001b[39m\u001b[38;5;124m'\u001b[39m, \u001b[38;5;124m'\u001b[39m\u001b[38;5;124mtype\u001b[39m\u001b[38;5;124m'\u001b[39m: \u001b[38;5;28mstr\u001b[39m, \u001b[38;5;124m'\u001b[39m\u001b[38;5;124mdoc\u001b[39m\u001b[38;5;124m'\u001b[39m: \u001b[38;5;124m'\u001b[39m\u001b[38;5;124mthe name to use for this when storing\u001b[39m\u001b[38;5;124m'\u001b[39m, \u001b[38;5;124m'\u001b[39m\u001b[38;5;124mdefault\u001b[39m\u001b[38;5;124m'\u001b[39m: \u001b[38;5;124m'\u001b[39m\u001b[38;5;124mcsr_matrix\u001b[39m\u001b[38;5;124m'\u001b[39m},\n\u001b[1;32m     17\u001b[0m             allow_positional\u001b[38;5;241m=\u001b[39mAllowPositional\u001b[38;5;241m.\u001b[39mWARNING)\n\u001b[1;32m     18\u001b[0m     \u001b[38;5;28;01mdef\u001b[39;00m \u001b[38;5;21m__init__\u001b[39m(\u001b[38;5;28mself\u001b[39m, \u001b[38;5;241m*\u001b[39m\u001b[38;5;241m*\u001b[39mkwargs):\n\u001b[1;32m     19\u001b[0m         data, indices, indptr, shape \u001b[38;5;241m=\u001b[39m popargs(\u001b[38;5;124m'\u001b[39m\u001b[38;5;124mdata\u001b[39m\u001b[38;5;124m'\u001b[39m, \u001b[38;5;124m'\u001b[39m\u001b[38;5;124mindices\u001b[39m\u001b[38;5;124m'\u001b[39m, \u001b[38;5;124m'\u001b[39m\u001b[38;5;124mindptr\u001b[39m\u001b[38;5;124m'\u001b[39m, \u001b[38;5;124m'\u001b[39m\u001b[38;5;124mshape\u001b[39m\u001b[38;5;124m'\u001b[39m, kwargs)\n\u001b[1;32m     20\u001b[0m         \u001b[38;5;28msuper\u001b[39m()\u001b[38;5;241m.\u001b[39m\u001b[38;5;21m__init__\u001b[39m(\u001b[38;5;241m*\u001b[39m\u001b[38;5;241m*\u001b[39mkwargs)\n",
      "\u001b[0;31mAttributeError\u001b[0m: module 'scipy.sparse' has no attribute 'csr_matrix'"
     ]
    }
   ],
   "source": [
    "from pathlib import Path\n",
    "from spikeinterface.extractors import IntanRecordingExtractor\n",
    "from dicarlo_lab_to_nwb.conversion.data_locator import locate_intan_file_path\n",
    "\n",
    "data_folder = Path(\"/media/heberto/One Touch/DiCarlo-CN-data-share\")\n",
    "image_set_name = \"domain-transfer-2023\"\n",
    "subject = \"pico\"\n",
    "session_date = \"20230214\"\n",
    "session_time = \"140610\"\n",
    "\n",
    "intan_file_path = locate_intan_file_path(\n",
    "    data_folder=data_folder,\n",
    "    image_set_name=image_set_name,\n",
    "    subject=subject,\n",
    "    session_date=session_date,\n",
    "    session_time=session_time,\n",
    ")\n",
    "\n",
    "recording = IntanRecordingExtractor(\n",
    "    file_path=intan_file_path,\n",
    "    stream_name=\"RHD2000 amplifier channel\",\n",
    "    all_annotations=True,\n",
    "    ignore_integrity_checks=False,\n",
    ")\n",
    "recording"
   ]
  },
  {
   "cell_type": "markdown",
   "metadata": {},
   "source": [
    "This particular example has timestamps discontinuities, to load the data regardless we set the parameter `ignore_integrity_checks=True`."
   ]
  },
  {
   "cell_type": "code",
   "execution_count": null,
   "metadata": {},
   "outputs": [],
   "source": [
    "recording = IntanRecordingExtractor(\n",
    "    file_path=intan_file_path,\n",
    "    stream_name=\"RHD2000 amplifier channel\",\n",
    "    all_annotations=True,\n",
    "    ignore_integrity_checks=True,\n",
    ")\n",
    "recording"
   ]
  },
  {
   "cell_type": "markdown",
   "metadata": {},
   "source": [
    "### Auxiliary input"
   ]
  },
  {
   "cell_type": "code",
   "execution_count": null,
   "metadata": {},
   "outputs": [],
   "source": [
    "recording_auxiliary_input = IntanRecordingExtractor(\n",
    "    file_path=intan_file_path,\n",
    "    stream_name=\"RHD2000 auxiliary input channel\",\n",
    "    all_annotations=True,\n",
    "    ignore_integrity_checks=True,\n",
    ")\n",
    "\n",
    "recording_auxiliary_input"
   ]
  },
  {
   "cell_type": "markdown",
   "metadata": {},
   "source": [
    "### ADC input"
   ]
  },
  {
   "cell_type": "code",
   "execution_count": null,
   "metadata": {},
   "outputs": [],
   "source": [
    "recording_adc_input = IntanRecordingExtractor(\n",
    "    file_path=intan_file_path,\n",
    "    stream_name=\"USB board ADC input channel\",\n",
    "    all_annotations=True,\n",
    "    ignore_integrity_checks=True,\n",
    ")\n",
    "\n",
    "recording_adc_input"
   ]
  },
  {
   "cell_type": "markdown",
   "metadata": {},
   "source": [
    "### Digital channel \n",
    "Requires neo version from github https://github.com/NeuralEnsemble/python-neo/"
   ]
  },
  {
   "cell_type": "code",
   "execution_count": null,
   "metadata": {},
   "outputs": [],
   "source": [
    "recording_digital = IntanRecordingExtractor(\n",
    "    file_path=intan_file_path,\n",
    "    stream_name=\"USB board digital input channel\",\n",
    "    all_annotations=True,\n",
    "    ignore_integrity_checks=True,\n",
    ")\n",
    "\n",
    "recording_digital"
   ]
  },
  {
   "cell_type": "markdown",
   "metadata": {},
   "source": [
    "## Loading the probe"
   ]
  },
  {
   "cell_type": "code",
   "execution_count": null,
   "metadata": {},
   "outputs": [],
   "source": [
    "from dicarlo_lab_to_nwb.conversion.probe import build_probe_group\n",
    "from dicarlo_lab_to_nwb.conversion.data_locator import locate_intan_file_path\n",
    "from spikeinterface.extractors import IntanRecordingExtractor\n",
    "\n",
    "data_folder = Path(\"/media/heberto/One Touch/DiCarlo-CN-data-share\")\n",
    "image_set_name = \"domain-transfer-2023\"\n",
    "subject = \"pico\"\n",
    "session_date = \"20230214\"\n",
    "session_time = \"140610\"\n",
    "\n",
    "\n",
    "intan_file_path = locate_intan_file_path(\n",
    "    data_folder=data_folder,\n",
    "    image_set_name=image_set_name,\n",
    "    subject=subject,\n",
    "    session_date=session_date,\n",
    "    session_time=session_time,\n",
    ")\n",
    "\n",
    "\n",
    "stream_name = \"RHD2000 amplifier channel\"\n",
    "recording = IntanRecordingExtractor(\n",
    "    file_path=intan_file_path,\n",
    "    stream_name=stream_name,\n",
    "    ignore_integrity_checks=True,\n",
    "    all_annotations=True,\n",
    ")\n",
    "\n",
    "\n",
    "probe_group = build_probe_group(recording=recording)\n",
    "\n",
    "\n",
    "from probeinterface.plotting import plot_probe\n",
    "import matplotlib.pyplot as plt\n",
    "import numpy as np\n",
    "\n",
    "\n",
    "\n",
    "fig = plt.figure(figsize=(16, 8))\n",
    "ax = fig.add_subplot(111)\n",
    "\n",
    "probe = probe_group.probes[0]\n",
    "channel_ids = recording.get_channel_ids()\n",
    "corresponding_channel_ids = [channel_ids[i] for i in probe.device_channel_indices]\n",
    "\n",
    "text_on_contact = np.asarray(corresponding_channel_ids)\n",
    "\n",
    "plot_probe(probe=probe, ax=ax, with_contact_id=True, text_on_contact=text_on_contact)"
   ]
  },
  {
   "cell_type": "code",
   "execution_count": null,
   "metadata": {},
   "outputs": [],
   "source": [
    "from probeinterface.plotting import plot_probe_group\n",
    "\n",
    "fig = plt.figure(figsize=(16, 8))\n",
    "ax = fig.add_subplot(111)\n",
    "\n",
    "\n",
    "plot_probe_group(probe_group, ax=ax, same_axes=True, with_contact_id=False)\n"
   ]
  },
  {
   "cell_type": "markdown",
   "metadata": {},
   "source": [
    "# Sorting Pipeline"
   ]
  },
  {
   "cell_type": "markdown",
   "metadata": {},
   "source": [
    "To run a sorting pipeline we need a recording with a geometry attached."
   ]
  },
  {
   "cell_type": "code",
   "execution_count": null,
   "metadata": {},
   "outputs": [],
   "source": [
    "from spikeinterface.extractors import IntanRecordingExtractor\n",
    "from spikeinterface.sorters import run_sorter_by_property\n",
    "\n",
    "\n",
    "from dicarlo_lab_to_nwb.conversion.data_locator import locate_intan_file_path\n",
    "from dicarlo_lab_to_nwb.conversion.probe import attach_probe_to_recording\n",
    "\n",
    "data_folder = Path(\"/media/heberto/One Touch/DiCarlo-CN-data-share\")\n",
    "image_set_name = \"domain-transfer-2023\"\n",
    "subject = \"pico\"\n",
    "session_date = \"20230214\"\n",
    "session_time = \"140610\"\n",
    "\n",
    "\n",
    "intan_file_path = locate_intan_file_path(\n",
    "    data_folder=data_folder,\n",
    "    image_set_name=image_set_name,\n",
    "    subject=subject,\n",
    "    session_date=session_date,\n",
    "    session_time=session_time,\n",
    ")\n",
    "\n",
    "\n",
    "stream_name = \"RHD2000 amplifier channel\"\n",
    "recording = IntanRecordingExtractor(\n",
    "    file_path=intan_file_path,\n",
    "    stream_name=stream_name,\n",
    "    ignore_integrity_checks=True,\n",
    "    all_annotations=True,\n",
    ")\n",
    "\n",
    "\n",
    "attach_probe_to_recording(recording=recording)\n",
    "recording"
   ]
  },
  {
   "cell_type": "markdown",
   "metadata": {},
   "source": [
    "Most sorters have been designed with high density probes in mind. They will work with a single channel probe, but the results may not be as good as some units might be supressed by the spatial regularization.\n",
    "\n",
    "Because of this we performed sorting in two ways so you can compare the results:\n",
    "\n",
    "1. We do one sorting per probe\n",
    "2. We do one sorting per channel to avoid interference of the spatial regularization\n",
    "\n"
   ]
  },
  {
   "cell_type": "markdown",
   "metadata": {},
   "source": [
    "## Performing a sorting per probe"
   ]
  },
  {
   "cell_type": "code",
   "execution_count": null,
   "metadata": {},
   "outputs": [],
   "source": [
    "from spikeinterface.core import load_extractor\n",
    "\n",
    "sorting_folder = Path(\"./sorting_done\")\n",
    "overwrite = False\n",
    "\n",
    "if sorting_folder.exists() and not overwrite:\n",
    "    sorting = load_extractor(sorting_folder)\n",
    "else:\n",
    "    sorting = run_sorter_by_property(\n",
    "        sorter_name=\"kilosort2\",\n",
    "        recording=recording,\n",
    "        folder=\"./sorting_folder_probe\",\n",
    "        grouping_property=\"probe\",\n",
    "        docker_image=True,\n",
    "    )\n",
    "\n",
    "    sorting.save(folder=sorting_folder)\n",
    "    "
   ]
  },
  {
   "cell_type": "markdown",
   "metadata": {},
   "source": [
    "Action item:\n",
    "* How to save the sorting results to numpy\n",
    "* Quality metrics:\n",
    "    * Which channels are visually driven? we repeat the image 20 times, we randomly choose the first 10 images of the set same of itme\n",
    "and correlate the responses.\n",
    "    *   "
   ]
  },
  {
   "cell_type": "code",
   "execution_count": null,
   "metadata": {},
   "outputs": [],
   "source": [
    "sorting"
   ]
  },
  {
   "cell_type": "markdown",
   "metadata": {},
   "source": []
  },
  {
   "cell_type": "code",
   "execution_count": null,
   "metadata": {},
   "outputs": [],
   "source": [
    "from spikeinterface.core import create_sorting_analyzer\n",
    "\n",
    "\n",
    "sorting_analyzer = create_sorting_analyzer(sorting=sorting, recording=recording)\n",
    "\n",
    "\n"
   ]
  },
  {
   "cell_type": "markdown",
   "metadata": {},
   "source": [
    "## Performing a sorting per channel"
   ]
  },
  {
   "cell_type": "code",
   "execution_count": null,
   "metadata": {},
   "outputs": [],
   "source": [
    "sorting = run_sorter_by_property(\n",
    "    sorter_name=\"kilosort3\",\n",
    "    recording=recording,\n",
    "    folder=\"./sorting_folder_per_channel\",\n",
    "    grouping_property=\"channel_names\",\n",
    "    docker_image=True,\n",
    ")\n"
   ]
  },
  {
   "cell_type": "code",
   "execution_count": null,
   "metadata": {},
   "outputs": [],
   "source": [
    "from spikeinterface.sorters import available_sorters\n",
    "\n",
    "available_sorters()"
   ]
  },
  {
   "cell_type": "code",
   "execution_count": null,
   "metadata": {},
   "outputs": [],
   "source": [
    "from spikeinterface.core import load_extractor\n",
    "\n",
    "sorting_folder = Path(\"./sorting_done_per_channel\")\n",
    "overwrite = False\n",
    "\n",
    "if sorting_folder.exists() and not overwrite:\n",
    "    sorting = load_extractor(sorting_folder)\n",
    "else:\n",
    "    sorting = run_sorter_by_property(\n",
    "        sorter_name=\"tridesclous\",\n",
    "        recording=recording,\n",
    "        folder=\"./sorting_folder_per_channel\",\n",
    "        grouping_property=\"channel_names\",\n",
    "        docker_image=True,\n",
    "    )\n",
    "\n",
    "    sorting.save(folder=sorting_folder)\n",
    "    \n"
   ]
  },
  {
   "cell_type": "markdown",
   "metadata": {},
   "source": [
    "# Peak Detection Pipeline"
   ]
  },
  {
   "cell_type": "markdown",
   "metadata": {},
   "source": [
    "## Artificial data"
   ]
  },
  {
   "cell_type": "code",
   "execution_count": null,
   "metadata": {},
   "outputs": [],
   "source": [
    "import spikeinterface.widgets as sw\n",
    "\n",
    "from spikeinterface.core.generate import generate_ground_truth_recording\n",
    "\n",
    "\n",
    "recording, sorting = generate_ground_truth_recording(num_channels=4, num_units=1, durations=[1], seed=0)\n",
    "\n",
    "\n",
    "w_ts = sw.plot_traces(recording, time_range=(0, 1))\n",
    "w_rs = sw.plot_rasters(sorting, time_range=(0, 1))"
   ]
  },
  {
   "cell_type": "code",
   "execution_count": null,
   "metadata": {},
   "outputs": [],
   "source": [
    "import numpy as np\n",
    "from dicarlo_lab_to_nwb.conversion.pipeline import di_carlo_peak_detection\n",
    "\n",
    "\n",
    "\n",
    "job_kwargs = dict(n_jobs=1, verbose=True, progress_bar=True, chunk_duration=1.0)\n",
    "noise_threshold = 3  # The number of standard deviations for peak detection\n",
    "\n",
    "spike_times_per_channel = di_carlo_peak_detection(recording=recording, noise_threshold=noise_threshold, job_kwargs=job_kwargs)"
   ]
  },
  {
   "cell_type": "code",
   "execution_count": null,
   "metadata": {},
   "outputs": [],
   "source": [
    "sorting.get_unit_spike_train(0, return_times=True)"
   ]
  },
  {
   "cell_type": "code",
   "execution_count": null,
   "metadata": {},
   "outputs": [],
   "source": [
    "spike_times_per_channel[0]"
   ]
  },
  {
   "cell_type": "markdown",
   "metadata": {},
   "source": [
    "## Your data"
   ]
  },
  {
   "cell_type": "code",
   "execution_count": null,
   "metadata": {},
   "outputs": [],
   "source": [
    "from pathlib import Path\n",
    "\n",
    "import spikeinterface.widgets as sw\n",
    "from dicarlo_lab_to_nwb.conversion.data_locator import locate_intan_file_path\n",
    "\n",
    "from spikeinterface.extractors import IntanRecordingExtractor\n",
    "\n",
    "\n",
    "data_folder = Path(\"/media/heberto/One Touch/DiCarlo-CN-data-share\")\n",
    "image_set_name = \"domain-transfer-2023\"\n",
    "subject = \"pico\"\n",
    "session_date = \"20230214\"\n",
    "session_time = \"140610\"\n",
    "\n",
    "\n",
    "intan_file_path = locate_intan_file_path(\n",
    "    data_folder=data_folder,\n",
    "    image_set_name=image_set_name,\n",
    "    subject=subject,\n",
    "    session_date=session_date,\n",
    "    session_time=session_time,\n",
    ")\n",
    "\n",
    "\n",
    "\n",
    "recording = IntanRecordingExtractor(\n",
    "    file_path=intan_file_path,\n",
    "    stream_name=\"RHD2000 amplifier channel\",\n",
    "    all_annotations=True,\n",
    "    ignore_integrity_checks=True,\n",
    ")\n",
    "\n",
    "# If you want to select only one channel\n",
    "channel_ids = recording.get_channel_ids()[0:1]\n",
    "recording = recording.select_channels(channel_ids=channel_ids)\n",
    "w_ts = sw.plot_traces(recording, time_range=(0, 1), return_scaled=True)\n"
   ]
  },
  {
   "cell_type": "markdown",
   "metadata": {},
   "source": [
    "#### Preprocess"
   ]
  },
  {
   "cell_type": "code",
   "execution_count": null,
   "metadata": {},
   "outputs": [],
   "source": [
    "from dicarlo_lab_to_nwb.conversion.pipeline import DiCarloBandPass, DiCarloNotch\n",
    "\n",
    "\n",
    "f_notch = 60  # Hz\n",
    "bandwidth = 10\n",
    "f_low = 300.0\n",
    "f_high = 6000.0\n",
    "\n",
    "vectorized = True \n",
    "notched_recording = DiCarloNotch(recording, f_notch=f_notch, bandwidth=bandwidth, vectorized=vectorized)\n",
    "preprocessed_recording = DiCarloBandPass(notched_recording, f_low=f_low, f_high=f_high, vectorized=vectorized)\n",
    "\n",
    "# For this instance each array 96 channels, 400 micrometes apart\n",
    "w_ts = sw.plot_traces(preprocessed_recording, time_range=(0, 1), return_scaled=True)"
   ]
  },
  {
   "cell_type": "markdown",
   "metadata": {},
   "source": [
    "#### Run the peak detection on a short portion of the data"
   ]
  },
  {
   "cell_type": "code",
   "execution_count": null,
   "metadata": {},
   "outputs": [],
   "source": [
    "from dicarlo_lab_to_nwb.conversion.pipeline import di_carlo_peak_detection\n",
    "\n",
    "noise_threshold = 3  # The number of standard deviations for peak detection\n",
    "\n",
    "start_frame = 0\n",
    "seconds_of_data = 1.0\n",
    "end_frame = int(preprocessed_recording.sampling_frequency * seconds_of_data)\n",
    "preprocessed_recording = preprocessed_recording.frame_slice(start_frame=start_frame, end_frame=end_frame)\n",
    "\n",
    "spike_times_per_channel = di_carlo_peak_detection(\n",
    "    recording=preprocessed_recording,\n",
    "    noise_threshold=noise_threshold,\n",
    ")\n",
    "\n",
    "spike_times_per_channel"
   ]
  },
  {
   "cell_type": "markdown",
   "metadata": {},
   "source": [
    "#### Everything can be wrapped up in a couple of lines"
   ]
  },
  {
   "cell_type": "code",
   "execution_count": null,
   "metadata": {},
   "outputs": [],
   "source": [
    "from spikeinterface.extractors import IntanRecordingExtractor\n",
    "from dicarlo_lab_to_nwb.conversion.pipeline import thresholding_pipeline\n",
    "from dicarlo_lab_to_nwb.conversion.data_locator import locate_intan_file_path\n",
    "\n",
    "\n",
    "image_set_name = \"domain-transfer-2023\"\n",
    "subject = \"pico\"\n",
    "session_date = \"20230214\"\n",
    "session_time = \"140610\"\n",
    "\n",
    "# Parameters of the pipeline\n",
    "f_notch = 60  # Hz\n",
    "bandwidth = 10\n",
    "f_low = 300.0\n",
    "f_high = 6000.0\n",
    "noise_threshold = 3  # The number of standard deviations for peak detection\n",
    "\n",
    "\n",
    "data_folder = Path(\"/media/heberto/One Touch/DiCarlo-CN-data-share\")\n",
    "\n",
    "intan_file_path = locate_intan_file_path(\n",
    "    data_folder=data_folder,\n",
    "    image_set_name=image_set_name,\n",
    "    subject=subject,\n",
    "    session_date=session_date,\n",
    "    session_time=session_time,\n",
    ")\n",
    "\n",
    "\n",
    "stream_name = \"RHD2000 amplifier channel\"\n",
    "recording = IntanRecordingExtractor(\n",
    "    file_path=intan_file_path,\n",
    "    stream_name=stream_name,\n",
    "    ignore_integrity_checks=True,\n",
    "    all_annotations=True,\n",
    ")\n",
    "\n",
    "spike_times_per_channel_vectorized = thresholding_pipeline(\n",
    "    recording=recording.frame_slice(start_frame=0, end_frame=1000), # Remove frame_slice to run the whole pipeline\n",
    "    f_notch=f_notch,\n",
    "    bandwidth=bandwidth,\n",
    "    f_low=f_low,\n",
    "    f_high=f_high,\n",
    "    noise_threshold=noise_threshold,\n",
    ")\n",
    "\n",
    "spike_times_per_channel"
   ]
  },
  {
   "cell_type": "markdown",
   "metadata": {},
   "source": [
    "# Calculating PSTH"
   ]
  },
  {
   "cell_type": "code",
   "execution_count": null,
   "metadata": {},
   "outputs": [],
   "source": [
    "%load_ext autoreload\n",
    "%autoreload \n",
    "from pathlib import Path\n",
    "\n",
    "from spikeinterface.extractors import IntanRecordingExtractor\n",
    "from dicarlo_lab_to_nwb.conversion.pipeline import thresholding_pipeline\n",
    "from dicarlo_lab_to_nwb.conversion.data_locator import locate_intan_file_path\n",
    "from dicarlo_lab_to_nwb.conversion.probe import attach_probe_to_recording\n",
    "\n",
    "data_folder = Path(\"/media/heberto/One Touch/DiCarlo-CN-data-share\")\n",
    "image_set_name = \"domain-transfer-2023\"\n",
    "subject = \"pico\"\n",
    "session_date = \"20230214\"\n",
    "session_time = \"140610\"\n",
    "\n",
    "# Parameters of the pipeline\n",
    "f_notch = 60  # Hz\n",
    "bandwidth = 10\n",
    "f_low = 300.0\n",
    "f_high = 6000.0\n",
    "noise_threshold = 3  # The number of standard deviations for peak detection\n",
    "\n",
    "intan_file_path = locate_intan_file_path(\n",
    "    data_folder=data_folder,\n",
    "    image_set_name=image_set_name,\n",
    "    subject=subject,\n",
    "    session_date=session_date,\n",
    "    session_time=session_time,\n",
    ")\n",
    "\n",
    "\n",
    "stream_name = \"RHD2000 amplifier channel\"\n",
    "recording = IntanRecordingExtractor(\n",
    "    file_path=intan_file_path,\n",
    "    stream_name=stream_name,\n",
    "    ignore_integrity_checks=True,\n",
    "    all_annotations=True,\n",
    ")\n",
    "\n",
    "\n",
    "attach_probe_to_recording(recording=recording)\n",
    "chunk_duration = 10.0  # 10 seconds\n",
    "job_kwargs = dict(n_jobs=-1, progress_bar=True, verbose=True, chunk_duration=chunk_duration)\n",
    "\n",
    "dict_of_recordings = recording.split_by(property=\"probe\", outputs=\"dict\")\n",
    "dict_of_spikes_times_per_channel = {}\n",
    "\n",
    "for probe_name, recording in dict_of_recordings.items():\n",
    "    spikes_times_per_channel = thresholding_pipeline(\n",
    "        recording=recording,\n",
    "        f_notch=f_notch,\n",
    "        bandwidth=bandwidth,\n",
    "        f_low=f_low,\n",
    "        f_high=f_high,\n",
    "        noise_threshold=noise_threshold,\n",
    "        vectorized=True,\n",
    "        job_kwargs=job_kwargs,\n",
    "    )\n",
    "    \n",
    "    dict_of_spikes_times_per_channel[probe_name] = spikes_times_per_channel\n",
    "\n",
    "# We merge all the dictionaries\n",
    "dict_of_spikes_times = {key: value for d in dict_of_spikes_times_per_channel.values() for key, value in d.items()}"
   ]
  },
  {
   "cell_type": "code",
   "execution_count": null,
   "metadata": {},
   "outputs": [],
   "source": [
    "import pandas as pd\n",
    "from dicarlo_lab_to_nwb.conversion.data_locator import locate_mworks_processed_file_path\n",
    "\n",
    "mworks_processed_file_path = locate_mworks_processed_file_path(\n",
    "    data_folder=data_folder,\n",
    "    image_set_name=image_set_name,\n",
    "    subject=subject,\n",
    "    session_date=session_date,\n",
    "    session_time=session_time,\n",
    ")\n",
    "\n",
    "\n",
    "mworks_processed_file_path = Path(mworks_processed_file_path)\n",
    "dtype = {\"stimulus_presented\": np.uint32, \"fixation_correct\": bool}\n",
    "mwkorks_df = pd.read_csv(mworks_processed_file_path, dtype=dtype)\n",
    "ground_truth_time_column = \"samp_on_us\"\n",
    "stimuli_presentation_times_seconds = mwkorks_df[ground_truth_time_column] / 1e6\n",
    "stimuli_presentation_id = mwkorks_df[\"stimulus_presented\"]\n",
    "all_stimuli = stimuli_presentation_id.unique()\n",
    "\n",
    "stimuli_presentation_times_dict = {\n",
    "    stimulus_id: stimuli_presentation_times_seconds[stimuli_presentation_id == stimulus_id].values for stimulus_id in all_stimuli\n",
    "}\n",
    "\n",
    "spike_times_list = [spike_times for spike_times in dict_of_spikes_times.values()]"
   ]
  },
  {
   "cell_type": "code",
   "execution_count": null,
   "metadata": {},
   "outputs": [],
   "source": [
    "from dicarlo_lab_to_nwb.conversion.psth import calculate_event_psth\n",
    "\n",
    "# Make 10 bins of 0.200 seconds each\n",
    "number_of_bins = 10\n",
    "bin_width_in_milliseconds = 400.0 / number_of_bins\n",
    "#This means the first bin starts 200 ms before the image presentation\n",
    "milliseconds_from_event_to_first_bin = -200.0  # \n",
    "max_repetitions = stimuli_presentation_id.value_counts().max()\n",
    "\n",
    "# Let's calculate the PSTH for a single stimuli\n",
    "a_stimuli = all_stimuli[0]\n",
    "stimulus_presentation_times = stimuli_presentation_times_dict[a_stimuli]\n",
    "\n",
    "# TODO: Raveling bins in psth.py line 58 assumes increasing order of stimulus presentation times.\n",
    "# This is not always the case. In case stim A and stim B are presented back-to-back, separated by \n",
    "# by an interval near 'milliseconds_from_event_to_first_bin', then the bin values do not always increase.\n",
    "# @heberto we could add the following, with the cost of losing a small number of repeats,\n",
    "#  or reconsider the raveling of bins in psth.py\n",
    "delta_stimulus_times = np.diff(stimulus_presentation_times)\n",
    "ignore_stim = np.where(delta_stimulus_times < 2*np.abs(milliseconds_from_event_to_first_bin))\n",
    "if ignore_stim[0].size > 0:\n",
    "                print(f\"Stimulus {stimulus_id} has presentation {ignore_stim[0].size}\")\n",
    "                stimulus_presentation_times = np.delete(stimulus_presentation_times, ignore_stim)\n",
    "\n",
    "psth_per_stimuli = calculate_event_psth(\n",
    "    spike_times_list=spike_times_list,\n",
    "    event_times_seconds=stimulus_presentation_times,\n",
    "    bin_width_in_milliseconds=bin_width_in_milliseconds,\n",
    "    number_of_bins = number_of_bins,\n",
    "    milliseconds_from_event_to_first_bin=milliseconds_from_event_to_first_bin,\n",
    "    number_of_events=max_repetitions,\n",
    ")\n",
    "\n",
    "psth_per_stimuli[1, ...]"
   ]
  },
  {
   "cell_type": "markdown",
   "metadata": {},
   "source": [
    "### Agregate psth for all stimuli in session"
   ]
  },
  {
   "cell_type": "code",
   "execution_count": null,
   "metadata": {},
   "outputs": [],
   "source": [
    "from tqdm import tqdm\n",
    "from dicarlo_lab_to_nwb.conversion.psth import calculate_event_psth\n",
    "\n",
    "number_of_units = len(spike_times_list)\n",
    "number_of_stimuli = len(stimuli_presentation_times_dict)\n",
    "\n",
    "session_psth = np.full(\n",
    "    shape=(number_of_units, number_of_stimuli, max_repetitions, number_of_bins), fill_value=np.nan\n",
    ")\n",
    "psth_per_stimuli_dict = {}\n",
    "\n",
    "for stimulus_index, (stimulus_id, stimulus_times) in enumerate(tqdm(stimuli_presentation_times_dict.items(), desc=\"Processing Stimuli\")):\n",
    "    psth_per_stimuli = calculate_event_psth(\n",
    "        spike_times_list=spike_times_list,\n",
    "        event_times_seconds=stimulus_times,  # make sure this is correct\n",
    "        bin_width_in_milliseconds=bin_width_in_milliseconds,\n",
    "        number_of_bins=number_of_bins,\n",
    "        milliseconds_from_event_to_first_bin=milliseconds_from_event_to_first_bin,\n",
    "        number_of_events=max_repetitions,\n",
    "    )\n",
    "    session_psth[:, stimulus_index, :, :] = psth_per_stimuli\n",
    "    \n",
    "session_psth_numpy = session_psth"
   ]
  },
  {
   "cell_type": "markdown",
   "metadata": {},
   "source": [
    "I also added a numba version that is five times faster"
   ]
  },
  {
   "cell_type": "code",
   "execution_count": null,
   "metadata": {},
   "outputs": [],
   "source": [
    "from tqdm import tqdm\n",
    "from dicarlo_lab_to_nwb.conversion.psth import calculate_event_psth_numba\n",
    "\n",
    "number_of_units = len(spike_times_list)\n",
    "number_of_stimuli = len(stimuli_presentation_times_dict)\n",
    "\n",
    "session_psth = np.full(\n",
    "    shape=(number_of_units, number_of_stimuli, max_repetitions, number_of_bins), fill_value=np.nan\n",
    ")\n",
    "\n",
    "for stimulus_index, (stimulus_id, stimulus_times) in enumerate(tqdm(stimuli_presentation_times_dict.items(), desc=\"Processing Stimuli\")):\n",
    "    psth_per_stimuli = calculate_event_psth_numba(\n",
    "        spike_times_list=spike_times_list,\n",
    "        event_times_seconds=stimulus_times,  # make sure this is correct\n",
    "        bin_width_in_milliseconds=bin_width_in_milliseconds,\n",
    "        number_of_bins=number_of_bins,\n",
    "        milliseconds_from_event_to_first_bin=milliseconds_from_event_to_first_bin,\n",
    "        number_of_events=max_repetitions,\n",
    "    )\n",
    "    session_psth[:, stimulus_index, :, :] = psth_per_stimuli\n",
    "    \n",
    "session_psth_numba = session_psth"
   ]
  },
  {
   "cell_type": "code",
   "execution_count": null,
   "metadata": {},
   "outputs": [],
   "source": [
    "np.allclose(session_psth_numpy, session_psth_numba, equal_nan=True)"
   ]
  }
 ],
 "metadata": {
  "kernelspec": {
   "display_name": "neuroconv_env",
   "language": "python",
   "name": "python3"
  },
  "language_info": {
   "codemirror_mode": {
    "name": "ipython",
    "version": 3
   },
   "file_extension": ".py",
   "mimetype": "text/x-python",
   "name": "python",
   "nbconvert_exporter": "python",
   "pygments_lexer": "ipython3",
   "version": "3.1.undefined"
  }
 },
 "nbformat": 4,
 "nbformat_minor": 2
}
